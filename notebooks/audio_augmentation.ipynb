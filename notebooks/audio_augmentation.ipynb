{
 "cells": [
  {
   "cell_type": "code",
   "execution_count": null,
   "metadata": {},
   "outputs": [],
   "source": [
    "import librosa\n",
    "import librosa.display\n",
    "from IPython.display import Audio\n",
    "import numpy as np\n",
    "import random\n",
    "import os\n",
    "from glob import glob\n",
    "import matplotlib.pyplot as plt"
   ]
  },
  {
   "cell_type": "code",
   "execution_count": null,
   "metadata": {},
   "outputs": [],
   "source": [
    "def display(sample, sample_rate):\n",
    "    X = librosa.stft(sample)\n",
    "    Xdb = librosa.amplitude_to_db(librosa.magphase(X)[0])\n",
    "    plt.figure(figsize=(12, 5))\n",
    "    librosa.display.specshow(Xdb, sr=sample_rate, x_axis='time', y_axis='hz')\n",
    "    plt.show()"
   ]
  },
  {
   "cell_type": "code",
   "execution_count": null,
   "metadata": {},
   "outputs": [],
   "source": [
    "sound_dir = os.path.join(\"..\", \"data\", \"sounds\")\n",
    "max_sound_length = 173\n",
    "file = os.path.join(sound_dir, \"37.wav\")\n",
    "sound_id = file[len(sound_dir + \"/\"):-len(\".wav\")]\n",
    "y, sr = librosa.load(file)\n",
    "display(y, sr)\n",
    "Audio(y, rate=sr)\n",
    "#mfcc = librosa.feature.mfcc(, n_mfcc=n_mfccs)\n",
    "#mfcc = librosa.util.fix_length(mfcc, max_sound_length)\n"
   ]
  },
  {
   "cell_type": "code",
   "execution_count": null,
   "metadata": {},
   "outputs": [],
   "source": [
    "def change_speed_pitch(sample, sample_rate):\n",
    "    y_pitch_speed = sample.copy()\n",
    "    # you can change low and high here\n",
    "    length_change = 0.5\n",
    "    speed_fac = 1.0  / length_change\n",
    "    print(\"resample length_change = \",length_change)\n",
    "    tmp = np.interp(np.arange(0, len(y_pitch_speed), speed_fac), \n",
    "                    np.arange(0, len(y_pitch_speed)), y_pitch_speed)\n",
    "    minlen = min(y_pitch_speed.shape[0], tmp.shape[0])\n",
    "    y_pitch_speed *= 0\n",
    "    y_pitch_speed[0:minlen] = tmp[0:minlen]\n",
    "    display(y_pitch_speed, sample_rate)\n",
    "    return Audio(y_pitch_speed, rate=sample_rate)"
   ]
  },
  {
   "cell_type": "code",
   "execution_count": null,
   "metadata": {},
   "outputs": [],
   "source": [
    "change_speed_pitch(y, sr)"
   ]
  },
  {
   "cell_type": "code",
   "execution_count": null,
   "metadata": {},
   "outputs": [],
   "source": [
    "def change_pitch(audio, sample_rate):\n",
    "    pitch_change = random.gauss(0, 1)\n",
    "    pitched_audio = librosa.effects.pitch_shift(audio, sample_rate, pitch_change)\n",
    "    display(pitched_audio, sample_rate)\n",
    "    return Audio(pitched_audio, rate=sample_rate)"
   ]
  },
  {
   "cell_type": "code",
   "execution_count": null,
   "metadata": {},
   "outputs": [],
   "source": [
    "change_pitch(y, sr)"
   ]
  },
  {
   "cell_type": "code",
   "execution_count": null,
   "metadata": {},
   "outputs": [],
   "source": [
    "def white_noise(audio, sample_rate):\n",
    "    noise = np.random.normal(0, 0.005, audio.shape)\n",
    "    noise_audio = audio + noise\n",
    "    display(noise_audio, sample_rate)\n",
    "    return Audio(noise_audio, rate=sample_rate)"
   ]
  },
  {
   "cell_type": "code",
   "execution_count": null,
   "metadata": {},
   "outputs": [],
   "source": [
    "white_noise(y, sr)"
   ]
  },
  {
   "cell_type": "code",
   "execution_count": null,
   "metadata": {},
   "outputs": [],
   "source": [
    "mfcc_before = librosa.util.fix_length(y, sr * 4)\n",
    "display(mfcc_before, sr)\n",
    "mfcc_before = librosa.feature.mfcc(mfcc_before, sr, n_mfcc=20)\n",
    "librosa.display.specshow(mfcc_before, x_axis='time')"
   ]
  },
  {
   "cell_type": "code",
   "execution_count": null,
   "metadata": {},
   "outputs": [],
   "source": [
    "mfcc_after = librosa.feature.mfcc(y, sr, n_mfcc=20)\n",
    "mfcc_after = librosa.util.fix_length(mfcc_after, 173)\n",
    "librosa.display.specshow(mfcc_after, x_axis='time')"
   ]
  }
 ],
 "metadata": {
  "kernelspec": {
   "display_name": "Python 3",
   "language": "python",
   "name": "python3"
  },
  "language_info": {
   "codemirror_mode": {
    "name": "ipython",
    "version": 3
   },
   "file_extension": ".py",
   "mimetype": "text/x-python",
   "name": "python",
   "nbconvert_exporter": "python",
   "pygments_lexer": "ipython3",
   "version": "3.6.4"
  }
 },
 "nbformat": 4,
 "nbformat_minor": 2
}
